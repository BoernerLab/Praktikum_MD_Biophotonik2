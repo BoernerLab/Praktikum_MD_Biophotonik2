{
 "cells": [
  {
   "cell_type": "markdown",
   "metadata": {},
   "source": "# Auswertungskript Vorlage"
  },
  {
   "metadata": {
    "ExecuteTime": {
     "end_time": "2025-10-17T16:08:42.857477Z",
     "start_time": "2025-10-17T16:08:42.846359Z"
    }
   },
   "cell_type": "code",
   "source": [
    "import MDAnalysis as mda\n",
    "from MDAnalysis.analysis import rms, align\n",
    "import pandas as pd\n",
    "import matplotlib.pyplot as plt"
   ],
   "outputs": [],
   "execution_count": 35
  },
  {
   "metadata": {},
   "cell_type": "markdown",
   "source": "## Einleseroutine für xvg-Dateien"
  },
  {
   "cell_type": "code",
   "metadata": {
    "ExecuteTime": {
     "end_time": "2025-10-17T16:10:51.576165Z",
     "start_time": "2025-10-17T16:10:51.566056Z"
    }
   },
   "source": [
    "input_datei = \"em/potential_energy_RNA.xvg\"\n",
    "x, y = [], []\n",
    "xlabel, ylabel = None, None\n",
    "\n",
    "with open(input_datei) as f:\n",
    "    for line in f:\n",
    "        # Header-Zeilen prüfen\n",
    "        if line.startswith(\"@\"):\n",
    "            if \"xaxis\" in line and \"label\" in line:\n",
    "                xlabel = line.split('\"')[1]\n",
    "            elif \"yaxis\" in line and \"label\" in line:\n",
    "                ylabel = line.split('\"')[1]\n",
    "        elif not line.startswith(\"#\"):\n",
    "            cols = line.split()\n",
    "            x.append(float(cols[0]))\n",
    "            y.append(float(cols[1]))\n",
    "\n",
    "df = pd.DataFrame({xlabel: x, ylabel: y})"
   ],
   "outputs": [],
   "execution_count": 38
  },
  {
   "metadata": {
    "ExecuteTime": {
     "end_time": "2025-10-17T16:08:44.700503Z",
     "start_time": "2025-10-17T16:08:44.688952Z"
    }
   },
   "cell_type": "code",
   "source": "df",
   "outputs": [
    {
     "data": {
      "text/plain": [
       "     Time (ps)       (kJ/mol)\n",
       "0          0.0  -20769.287109\n",
       "1          1.0  -41464.804688\n",
       "2          2.0  -67126.382812\n",
       "3          3.0  -84357.234375\n",
       "4          4.0  -95449.359375\n",
       "..         ...            ...\n",
       "150      190.0 -133439.156250\n",
       "151      191.0 -133464.109375\n",
       "152      192.0 -133474.187500\n",
       "153      193.0 -133482.796875\n",
       "154      195.0 -133597.187500\n",
       "\n",
       "[155 rows x 2 columns]"
      ],
      "text/html": [
       "<div>\n",
       "<style scoped>\n",
       "    .dataframe tbody tr th:only-of-type {\n",
       "        vertical-align: middle;\n",
       "    }\n",
       "\n",
       "    .dataframe tbody tr th {\n",
       "        vertical-align: top;\n",
       "    }\n",
       "\n",
       "    .dataframe thead th {\n",
       "        text-align: right;\n",
       "    }\n",
       "</style>\n",
       "<table border=\"1\" class=\"dataframe\">\n",
       "  <thead>\n",
       "    <tr style=\"text-align: right;\">\n",
       "      <th></th>\n",
       "      <th>Time (ps)</th>\n",
       "      <th>(kJ/mol)</th>\n",
       "    </tr>\n",
       "  </thead>\n",
       "  <tbody>\n",
       "    <tr>\n",
       "      <th>0</th>\n",
       "      <td>0.0</td>\n",
       "      <td>-20769.287109</td>\n",
       "    </tr>\n",
       "    <tr>\n",
       "      <th>1</th>\n",
       "      <td>1.0</td>\n",
       "      <td>-41464.804688</td>\n",
       "    </tr>\n",
       "    <tr>\n",
       "      <th>2</th>\n",
       "      <td>2.0</td>\n",
       "      <td>-67126.382812</td>\n",
       "    </tr>\n",
       "    <tr>\n",
       "      <th>3</th>\n",
       "      <td>3.0</td>\n",
       "      <td>-84357.234375</td>\n",
       "    </tr>\n",
       "    <tr>\n",
       "      <th>4</th>\n",
       "      <td>4.0</td>\n",
       "      <td>-95449.359375</td>\n",
       "    </tr>\n",
       "    <tr>\n",
       "      <th>...</th>\n",
       "      <td>...</td>\n",
       "      <td>...</td>\n",
       "    </tr>\n",
       "    <tr>\n",
       "      <th>150</th>\n",
       "      <td>190.0</td>\n",
       "      <td>-133439.156250</td>\n",
       "    </tr>\n",
       "    <tr>\n",
       "      <th>151</th>\n",
       "      <td>191.0</td>\n",
       "      <td>-133464.109375</td>\n",
       "    </tr>\n",
       "    <tr>\n",
       "      <th>152</th>\n",
       "      <td>192.0</td>\n",
       "      <td>-133474.187500</td>\n",
       "    </tr>\n",
       "    <tr>\n",
       "      <th>153</th>\n",
       "      <td>193.0</td>\n",
       "      <td>-133482.796875</td>\n",
       "    </tr>\n",
       "    <tr>\n",
       "      <th>154</th>\n",
       "      <td>195.0</td>\n",
       "      <td>-133597.187500</td>\n",
       "    </tr>\n",
       "  </tbody>\n",
       "</table>\n",
       "<p>155 rows × 2 columns</p>\n",
       "</div>"
      ]
     },
     "execution_count": 37,
     "metadata": {},
     "output_type": "execute_result"
    }
   ],
   "execution_count": 37
  },
  {
   "metadata": {},
   "cell_type": "markdown",
   "source": "## Einleseroutine für die RMSD-Berechnung"
  },
  {
   "cell_type": "code",
   "metadata": {
    "ExecuteTime": {
     "end_time": "2025-10-17T15:54:03.078196Z",
     "start_time": "2025-10-17T15:53:46.726343Z"
    }
   },
   "source": [
    "aligning_traj = mda.Universe(\"RNA_hairpin.pdb\", \"md0/RNA_hairpin_centered.xtc\")\n",
    "pdb_reference = mda.Universe(\"RNA_hairpin.pdb\")\n",
    "RMSD = rms.RMSD(aligning_traj, pdb_reference)\n",
    "RMSD.run()"
   ],
   "outputs": [
    {
     "data": {
      "text/plain": [
       "<MDAnalysis.analysis.rms.RMSD at 0x1bfad41cb30>"
      ]
     },
     "execution_count": 30,
     "metadata": {},
     "output_type": "execute_result"
    }
   ],
   "execution_count": 30
  },
  {
   "metadata": {
    "ExecuteTime": {
     "end_time": "2025-10-17T15:54:04.933601Z",
     "start_time": "2025-10-17T15:54:04.908421Z"
    }
   },
   "cell_type": "code",
   "source": [
    "rmsd_df = pd.DataFrame(RMSD.results.rmsd, columns=[\"Frame\",\"Time [ps]\",\"RMSD\"])\n",
    "rmsd_df"
   ],
   "outputs": [
    {
     "data": {
      "text/plain": [
       "           Frame  Time [ps]      RMSD\n",
       "0            0.0        0.0  4.148705\n",
       "1            1.0       10.0  4.222917\n",
       "2            2.0       20.0  4.242085\n",
       "3            3.0       30.0  4.232460\n",
       "4            4.0       40.0  4.210852\n",
       "...          ...        ...       ...\n",
       "99996    99996.0   999960.0  6.949243\n",
       "99997    99997.0   999970.0  7.018088\n",
       "99998    99998.0   999980.0  7.195120\n",
       "99999    99999.0   999990.0  7.157835\n",
       "100000  100000.0  1000000.0  7.113987\n",
       "\n",
       "[100001 rows x 3 columns]"
      ],
      "text/html": [
       "<div>\n",
       "<style scoped>\n",
       "    .dataframe tbody tr th:only-of-type {\n",
       "        vertical-align: middle;\n",
       "    }\n",
       "\n",
       "    .dataframe tbody tr th {\n",
       "        vertical-align: top;\n",
       "    }\n",
       "\n",
       "    .dataframe thead th {\n",
       "        text-align: right;\n",
       "    }\n",
       "</style>\n",
       "<table border=\"1\" class=\"dataframe\">\n",
       "  <thead>\n",
       "    <tr style=\"text-align: right;\">\n",
       "      <th></th>\n",
       "      <th>Frame</th>\n",
       "      <th>Time [ps]</th>\n",
       "      <th>RMSD</th>\n",
       "    </tr>\n",
       "  </thead>\n",
       "  <tbody>\n",
       "    <tr>\n",
       "      <th>0</th>\n",
       "      <td>0.0</td>\n",
       "      <td>0.0</td>\n",
       "      <td>4.148705</td>\n",
       "    </tr>\n",
       "    <tr>\n",
       "      <th>1</th>\n",
       "      <td>1.0</td>\n",
       "      <td>10.0</td>\n",
       "      <td>4.222917</td>\n",
       "    </tr>\n",
       "    <tr>\n",
       "      <th>2</th>\n",
       "      <td>2.0</td>\n",
       "      <td>20.0</td>\n",
       "      <td>4.242085</td>\n",
       "    </tr>\n",
       "    <tr>\n",
       "      <th>3</th>\n",
       "      <td>3.0</td>\n",
       "      <td>30.0</td>\n",
       "      <td>4.232460</td>\n",
       "    </tr>\n",
       "    <tr>\n",
       "      <th>4</th>\n",
       "      <td>4.0</td>\n",
       "      <td>40.0</td>\n",
       "      <td>4.210852</td>\n",
       "    </tr>\n",
       "    <tr>\n",
       "      <th>...</th>\n",
       "      <td>...</td>\n",
       "      <td>...</td>\n",
       "      <td>...</td>\n",
       "    </tr>\n",
       "    <tr>\n",
       "      <th>99996</th>\n",
       "      <td>99996.0</td>\n",
       "      <td>999960.0</td>\n",
       "      <td>6.949243</td>\n",
       "    </tr>\n",
       "    <tr>\n",
       "      <th>99997</th>\n",
       "      <td>99997.0</td>\n",
       "      <td>999970.0</td>\n",
       "      <td>7.018088</td>\n",
       "    </tr>\n",
       "    <tr>\n",
       "      <th>99998</th>\n",
       "      <td>99998.0</td>\n",
       "      <td>999980.0</td>\n",
       "      <td>7.195120</td>\n",
       "    </tr>\n",
       "    <tr>\n",
       "      <th>99999</th>\n",
       "      <td>99999.0</td>\n",
       "      <td>999990.0</td>\n",
       "      <td>7.157835</td>\n",
       "    </tr>\n",
       "    <tr>\n",
       "      <th>100000</th>\n",
       "      <td>100000.0</td>\n",
       "      <td>1000000.0</td>\n",
       "      <td>7.113987</td>\n",
       "    </tr>\n",
       "  </tbody>\n",
       "</table>\n",
       "<p>100001 rows × 3 columns</p>\n",
       "</div>"
      ]
     },
     "execution_count": 31,
     "metadata": {},
     "output_type": "execute_result"
    }
   ],
   "execution_count": 31
  }
 ],
 "metadata": {
  "kernelspec": {
   "display_name": "Python 3 (ipykernel)",
   "language": "python",
   "name": "python3"
  },
  "language_info": {
   "codemirror_mode": {
    "name": "ipython",
    "version": 3
   },
   "file_extension": ".py",
   "mimetype": "text/x-python",
   "name": "python",
   "nbconvert_exporter": "python",
   "pygments_lexer": "ipython3",
   "version": "3.10.9"
  }
 },
 "nbformat": 4,
 "nbformat_minor": 4
}
